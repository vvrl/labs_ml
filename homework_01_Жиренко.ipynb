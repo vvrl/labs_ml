{
 "cells": [
  {
   "attachments": {},
   "cell_type": "markdown",
   "metadata": {
    "id": "Q_upCOEI3Upu"
   },
   "source": [
    "# Основы глубинного обучения\n",
    "\n",
    "## Домашнее задание 1. Введение в PyTorch. Полносвязные нейронные сети\n",
    "\n",
    "### Оценивание и штрафы\n",
    "Сдавать задание после жёсткого дедлайна сдачи нельзя.\n",
    "\n",
    "Задание выполняется самостоятельно. «Похожие» решения считаются плагиатом и все задействованные студенты (в том числе те, у кого списали) не могут получить за него больше 0 баллов. Если вы нашли решение какого-то из заданий (или его часть) в открытом источнике, необходимо указать ссылку на этот источник в отдельном блоке в конце вашей работы (скорее всего вы будете не единственным, кто это нашел, поэтому чтобы исключить подозрение в плагиате, необходима ссылка на источник).\n",
    "\n",
    "Неэффективная реализация кода может негативно отразиться на оценке.\n",
    "Также оценка может быть снижена за плохо читаемый код и плохо оформленные графики. Все ответы должны сопровождаться кодом или комментариями о том, как они были получены."
   ]
  },
  {
   "cell_type": "markdown",
   "metadata": {},
   "source": [
    "### О задании\n",
    "\n",
    "В этом задании вам предстоит предсказывать год выпуска песни (**задача регрессии**) по некоторым звуковым признакам: [данные](https://archive.ics.uci.edu/ml/datasets/yearpredictionmsd). В ячейках ниже находится код для загрузки данных. Обратите внимание, что обучающая и тестовая выборки располагаются в одном файле, поэтому НЕ меняйте ячейку, в которой производится деление данных."
   ]
  },
  {
   "cell_type": "code",
   "execution_count": 2,
   "metadata": {},
   "outputs": [
    {
     "name": "stderr",
     "output_type": "stream",
     "text": [
      "C:\\Temp\\ipykernel_13096\\4079543086.py:4: DeprecationWarning: \n",
      "Pyarrow will become a required dependency of pandas in the next major release of pandas (pandas 3.0),\n",
      "(to allow more performant data types, such as the Arrow string type, and better interoperability with other libraries)\n",
      "but was not found to be installed on your system.\n",
      "If this would cause problems for you,\n",
      "please provide us feedback at https://github.com/pandas-dev/pandas/issues/54466\n",
      "        \n",
      "  import pandas as pd\n"
     ]
    }
   ],
   "source": [
    "import torch\n",
    "from torch import nn\n",
    "import torch.nn.functional as F\n",
    "import pandas as pd\n",
    "import numpy as np\n",
    "import random\n",
    "from tqdm.notebook import tqdm\n",
    "from IPython.display import clear_output\n",
    "import matplotlib.pyplot as plt"
   ]
  },
  {
   "cell_type": "code",
   "execution_count": 3,
   "metadata": {},
   "outputs": [],
   "source": [
    "if torch.backends.mps.is_available():\n",
    "    device = 'mps'\n",
    "elif torch.cuda.is_available():\n",
    "    device = 'cuda'\n",
    "else:\n",
    "    device = 'cpu'"
   ]
  },
  {
   "cell_type": "code",
   "execution_count": 4,
   "metadata": {},
   "outputs": [
    {
     "name": "stdout",
     "output_type": "stream",
     "text": [
      "cuda\n"
     ]
    }
   ],
   "source": [
    "print(device)"
   ]
  },
  {
   "cell_type": "code",
   "execution_count": 2,
   "metadata": {
    "colab": {
     "base_uri": "https://localhost:8080/"
    },
    "id": "7NgSZeU-7vgj",
    "outputId": "bf328cf3-2c32-4f57-fcca-b3801412e2d6"
   },
   "outputs": [
    {
     "name": "stderr",
     "output_type": "stream",
     "text": [
      "'wget' is not recognized as an internal or external command,\n",
      "operable program or batch file.\n"
     ]
    },
    {
     "ename": "",
     "evalue": "",
     "output_type": "error",
     "traceback": [
      "\u001b[1;31mПри выполнении кода в текущей ячейке или предыдущей ячейке ядро аварийно завершило работу. \n",
      "\u001b[1;31mПроверьте код в ячейках, чтобы определить возможную причину сбоя. \n",
      "\u001b[1;31mЩелкните <a href='https://aka.ms/vscodeJupyterKernelCrash'>здесь</a>, чтобы получить дополнительные сведения. \n",
      "\u001b[1;31mПодробнее см. в <a href='command:jupyter.viewOutput'>журнале Jupyter</a>."
     ]
    }
   ],
   "source": [
    "# !wget -O data.txt.zip https://archive.ics.uci.edu/ml/machine-learning-databases/00203/YearPredictionMSD.txt.zip\n",
    "# !curl -o data.txt.zip https://archive.ics.uci.edu/ml/machine-learning-databases/00203/YearPredictionMSD.txt.zip"
   ]
  },
  {
   "cell_type": "code",
   "execution_count": 5,
   "metadata": {
    "id": "DSVJZzkJ7zZE",
    "outputId": "488c6de3-e897-463b-945e-a6752c113f63",
    "scrolled": false
   },
   "outputs": [
    {
     "data": {
      "text/html": [
       "<div>\n",
       "<style scoped>\n",
       "    .dataframe tbody tr th:only-of-type {\n",
       "        vertical-align: middle;\n",
       "    }\n",
       "\n",
       "    .dataframe tbody tr th {\n",
       "        vertical-align: top;\n",
       "    }\n",
       "\n",
       "    .dataframe thead th {\n",
       "        text-align: right;\n",
       "    }\n",
       "</style>\n",
       "<table border=\"1\" class=\"dataframe\">\n",
       "  <thead>\n",
       "    <tr style=\"text-align: right;\">\n",
       "      <th></th>\n",
       "      <th>0</th>\n",
       "      <th>1</th>\n",
       "      <th>2</th>\n",
       "      <th>3</th>\n",
       "      <th>4</th>\n",
       "      <th>5</th>\n",
       "      <th>6</th>\n",
       "      <th>7</th>\n",
       "      <th>8</th>\n",
       "      <th>9</th>\n",
       "      <th>...</th>\n",
       "      <th>81</th>\n",
       "      <th>82</th>\n",
       "      <th>83</th>\n",
       "      <th>84</th>\n",
       "      <th>85</th>\n",
       "      <th>86</th>\n",
       "      <th>87</th>\n",
       "      <th>88</th>\n",
       "      <th>89</th>\n",
       "      <th>90</th>\n",
       "    </tr>\n",
       "  </thead>\n",
       "  <tbody>\n",
       "    <tr>\n",
       "      <th>0</th>\n",
       "      <td>2001</td>\n",
       "      <td>49.94357</td>\n",
       "      <td>21.47114</td>\n",
       "      <td>73.07750</td>\n",
       "      <td>8.74861</td>\n",
       "      <td>-17.40628</td>\n",
       "      <td>-13.09905</td>\n",
       "      <td>-25.01202</td>\n",
       "      <td>-12.23257</td>\n",
       "      <td>7.83089</td>\n",
       "      <td>...</td>\n",
       "      <td>13.01620</td>\n",
       "      <td>-54.40548</td>\n",
       "      <td>58.99367</td>\n",
       "      <td>15.37344</td>\n",
       "      <td>1.11144</td>\n",
       "      <td>-23.08793</td>\n",
       "      <td>68.40795</td>\n",
       "      <td>-1.82223</td>\n",
       "      <td>-27.46348</td>\n",
       "      <td>2.26327</td>\n",
       "    </tr>\n",
       "    <tr>\n",
       "      <th>1</th>\n",
       "      <td>2001</td>\n",
       "      <td>48.73215</td>\n",
       "      <td>18.42930</td>\n",
       "      <td>70.32679</td>\n",
       "      <td>12.94636</td>\n",
       "      <td>-10.32437</td>\n",
       "      <td>-24.83777</td>\n",
       "      <td>8.76630</td>\n",
       "      <td>-0.92019</td>\n",
       "      <td>18.76548</td>\n",
       "      <td>...</td>\n",
       "      <td>5.66812</td>\n",
       "      <td>-19.68073</td>\n",
       "      <td>33.04964</td>\n",
       "      <td>42.87836</td>\n",
       "      <td>-9.90378</td>\n",
       "      <td>-32.22788</td>\n",
       "      <td>70.49388</td>\n",
       "      <td>12.04941</td>\n",
       "      <td>58.43453</td>\n",
       "      <td>26.92061</td>\n",
       "    </tr>\n",
       "    <tr>\n",
       "      <th>2</th>\n",
       "      <td>2001</td>\n",
       "      <td>50.95714</td>\n",
       "      <td>31.85602</td>\n",
       "      <td>55.81851</td>\n",
       "      <td>13.41693</td>\n",
       "      <td>-6.57898</td>\n",
       "      <td>-18.54940</td>\n",
       "      <td>-3.27872</td>\n",
       "      <td>-2.35035</td>\n",
       "      <td>16.07017</td>\n",
       "      <td>...</td>\n",
       "      <td>3.03800</td>\n",
       "      <td>26.05866</td>\n",
       "      <td>-50.92779</td>\n",
       "      <td>10.93792</td>\n",
       "      <td>-0.07568</td>\n",
       "      <td>43.20130</td>\n",
       "      <td>-115.00698</td>\n",
       "      <td>-0.05859</td>\n",
       "      <td>39.67068</td>\n",
       "      <td>-0.66345</td>\n",
       "    </tr>\n",
       "    <tr>\n",
       "      <th>3</th>\n",
       "      <td>2001</td>\n",
       "      <td>48.24750</td>\n",
       "      <td>-1.89837</td>\n",
       "      <td>36.29772</td>\n",
       "      <td>2.58776</td>\n",
       "      <td>0.97170</td>\n",
       "      <td>-26.21683</td>\n",
       "      <td>5.05097</td>\n",
       "      <td>-10.34124</td>\n",
       "      <td>3.55005</td>\n",
       "      <td>...</td>\n",
       "      <td>34.57337</td>\n",
       "      <td>-171.70734</td>\n",
       "      <td>-16.96705</td>\n",
       "      <td>-46.67617</td>\n",
       "      <td>-12.51516</td>\n",
       "      <td>82.58061</td>\n",
       "      <td>-72.08993</td>\n",
       "      <td>9.90558</td>\n",
       "      <td>199.62971</td>\n",
       "      <td>18.85382</td>\n",
       "    </tr>\n",
       "    <tr>\n",
       "      <th>4</th>\n",
       "      <td>2001</td>\n",
       "      <td>50.97020</td>\n",
       "      <td>42.20998</td>\n",
       "      <td>67.09964</td>\n",
       "      <td>8.46791</td>\n",
       "      <td>-15.85279</td>\n",
       "      <td>-16.81409</td>\n",
       "      <td>-12.48207</td>\n",
       "      <td>-9.37636</td>\n",
       "      <td>12.63699</td>\n",
       "      <td>...</td>\n",
       "      <td>9.92661</td>\n",
       "      <td>-55.95724</td>\n",
       "      <td>64.92712</td>\n",
       "      <td>-17.72522</td>\n",
       "      <td>-1.49237</td>\n",
       "      <td>-7.50035</td>\n",
       "      <td>51.76631</td>\n",
       "      <td>7.88713</td>\n",
       "      <td>55.66926</td>\n",
       "      <td>28.74903</td>\n",
       "    </tr>\n",
       "  </tbody>\n",
       "</table>\n",
       "<p>5 rows × 91 columns</p>\n",
       "</div>"
      ],
      "text/plain": [
       "     0         1         2         3         4         5         6         7   \\\n",
       "0  2001  49.94357  21.47114  73.07750   8.74861 -17.40628 -13.09905 -25.01202   \n",
       "1  2001  48.73215  18.42930  70.32679  12.94636 -10.32437 -24.83777   8.76630   \n",
       "2  2001  50.95714  31.85602  55.81851  13.41693  -6.57898 -18.54940  -3.27872   \n",
       "3  2001  48.24750  -1.89837  36.29772   2.58776   0.97170 -26.21683   5.05097   \n",
       "4  2001  50.97020  42.20998  67.09964   8.46791 -15.85279 -16.81409 -12.48207   \n",
       "\n",
       "         8         9   ...        81         82        83        84        85  \\\n",
       "0 -12.23257   7.83089  ...  13.01620  -54.40548  58.99367  15.37344   1.11144   \n",
       "1  -0.92019  18.76548  ...   5.66812  -19.68073  33.04964  42.87836  -9.90378   \n",
       "2  -2.35035  16.07017  ...   3.03800   26.05866 -50.92779  10.93792  -0.07568   \n",
       "3 -10.34124   3.55005  ...  34.57337 -171.70734 -16.96705 -46.67617 -12.51516   \n",
       "4  -9.37636  12.63699  ...   9.92661  -55.95724  64.92712 -17.72522  -1.49237   \n",
       "\n",
       "         86         87        88         89        90  \n",
       "0 -23.08793   68.40795  -1.82223  -27.46348   2.26327  \n",
       "1 -32.22788   70.49388  12.04941   58.43453  26.92061  \n",
       "2  43.20130 -115.00698  -0.05859   39.67068  -0.66345  \n",
       "3  82.58061  -72.08993   9.90558  199.62971  18.85382  \n",
       "4  -7.50035   51.76631   7.88713   55.66926  28.74903  \n",
       "\n",
       "[5 rows x 91 columns]"
      ]
     },
     "execution_count": 5,
     "metadata": {},
     "output_type": "execute_result"
    }
   ],
   "source": [
    "df = pd.read_csv('data.txt.zip', header=None)\n",
    "df.head()"
   ]
  },
  {
   "attachments": {},
   "cell_type": "markdown",
   "metadata": {
    "id": "N9a-eJUG35C3"
   },
   "source": [
    "Мы вывели кусок данных, чтобы понять, насколько они пригодны для работы без изменений. Здесь ясно, что сомнительно дальше работать с такими данными, потому что как минимум есть отрицательные значения, которые не отмасштабированы, кроме того еще сразу бросается в глаза совсем разная размерность, где-то видим реально большие числа, а где-то 0.075. Ясно, что будем скейлить."
   ]
  },
  {
   "cell_type": "code",
   "execution_count": 54,
   "metadata": {
    "id": "n4wnRJT1778j"
   },
   "outputs": [],
   "source": [
    "X = df.iloc[:, 1:].values\n",
    "y = df.iloc[:, 0].values\n",
    "\n",
    "train_size = 463715\n",
    "X_train = X[:train_size, :]\n",
    "y_train = y[:train_size]\n",
    "X_test = X[train_size:, :]\n",
    "y_test = y[train_size:]"
   ]
  },
  {
   "attachments": {},
   "cell_type": "markdown",
   "metadata": {
    "id": "_386JE_o5gOd"
   },
   "source": [
    "## Задание 1\n",
    "\n",
    "Мы будем использовать RMSE как метрику качества. Для самого первого бейзлайна обучите `Ridge` регрессию из `sklearn`. Кроме того, посчитайте качество при наилучшем константном прогнозе.\n",
    "\n",
    "Для выполнения данного задания (и всех последующих) предобработайте данные.\n",
    "\n",
    "1. Зафиксируйте random_seed везде где только возможно. Вам предоставлена функция для этого, однако вы можете дополнить ее своими дополнениями.\n",
    "2. Обучите StandardScaler и предобработайте ваши данные. В следующих заданиях можете использовать другой scaler или вообще отказаться от него.\n",
    "\n",
    "**Примечание**: При разработке модели машинного обучения для проекта всегда желательно иметь некоторую baseline модель. Так нам будет легче проконтролировать, что наша более сложная модель действительно даёт нам прирост качества. Константный прогноз — это метод предсказания, который использует одно фиксированное значение (обычно среднее или медиану) в качестве прогноза для всех входных данных."
   ]
  },
  {
   "cell_type": "code",
   "execution_count": 11,
   "metadata": {},
   "outputs": [],
   "source": [
    "# создание бейзлайна \n",
    "from sklearn.linear_model import Ridge\n",
    "\n",
    "model = Ridge(1, random_state=42) # random_state - seed для sklearn"
   ]
  },
  {
   "cell_type": "code",
   "execution_count": 55,
   "metadata": {
    "id": "1kV-kCVs8Aju"
   },
   "outputs": [],
   "source": [
    "from sklearn.preprocessing import StandardScaler\n",
    "from sklearn.metrics import root_mean_squared_error\n",
    "\n",
    "scaler = StandardScaler()"
   ]
  },
  {
   "cell_type": "code",
   "execution_count": 24,
   "metadata": {
    "id": "lkfkXylb8U-O"
   },
   "outputs": [],
   "source": [
    "def set_random_seed(seed):\n",
    "    torch.backends.cudnn.deterministic = True\n",
    "    torch.manual_seed(seed)\n",
    "    torch.cuda.manual_seed(seed)\n",
    "    np.random.seed(seed)\n",
    "    random.seed(seed)\n",
    "    \n",
    "    # Add smth here if you need..."
   ]
  },
  {
   "cell_type": "code",
   "execution_count": 25,
   "metadata": {},
   "outputs": [],
   "source": [
    "set_random_seed(11)"
   ]
  },
  {
   "cell_type": "code",
   "execution_count": 56,
   "metadata": {},
   "outputs": [],
   "source": [
    "# изменение данных (масштабирование)\n",
    "\n",
    "X_train = scaler.fit_transform(X_train) #обучение (нахождение правил как трансформировать и трансформация)\n",
    "X_test = scaler.transform(X_test) #трансвормация (уже есть правила как трансформировать)\n"
   ]
  },
  {
   "cell_type": "code",
   "execution_count": 31,
   "metadata": {},
   "outputs": [
    {
     "data": {
      "text/html": [
       "<div>\n",
       "<style scoped>\n",
       "    .dataframe tbody tr th:only-of-type {\n",
       "        vertical-align: middle;\n",
       "    }\n",
       "\n",
       "    .dataframe tbody tr th {\n",
       "        vertical-align: top;\n",
       "    }\n",
       "\n",
       "    .dataframe thead th {\n",
       "        text-align: right;\n",
       "    }\n",
       "</style>\n",
       "<table border=\"1\" class=\"dataframe\">\n",
       "  <thead>\n",
       "    <tr style=\"text-align: right;\">\n",
       "      <th></th>\n",
       "      <th>0</th>\n",
       "      <th>1</th>\n",
       "      <th>2</th>\n",
       "      <th>3</th>\n",
       "      <th>4</th>\n",
       "      <th>5</th>\n",
       "      <th>6</th>\n",
       "      <th>7</th>\n",
       "      <th>8</th>\n",
       "      <th>9</th>\n",
       "      <th>...</th>\n",
       "      <th>80</th>\n",
       "      <th>81</th>\n",
       "      <th>82</th>\n",
       "      <th>83</th>\n",
       "      <th>84</th>\n",
       "      <th>85</th>\n",
       "      <th>86</th>\n",
       "      <th>87</th>\n",
       "      <th>88</th>\n",
       "      <th>89</th>\n",
       "    </tr>\n",
       "  </thead>\n",
       "  <tbody>\n",
       "    <tr>\n",
       "      <th>0</th>\n",
       "      <td>1.078786</td>\n",
       "      <td>0.391566</td>\n",
       "      <td>1.826962</td>\n",
       "      <td>0.466361</td>\n",
       "      <td>-0.476621</td>\n",
       "      <td>-0.275266</td>\n",
       "      <td>-1.551924</td>\n",
       "      <td>-1.311105</td>\n",
       "      <td>0.389093</td>\n",
       "      <td>-0.665402</td>\n",
       "      <td>...</td>\n",
       "      <td>-0.084995</td>\n",
       "      <td>0.106413</td>\n",
       "      <td>0.144257</td>\n",
       "      <td>-0.236180</td>\n",
       "      <td>0.047430</td>\n",
       "      <td>-0.355855</td>\n",
       "      <td>0.544084</td>\n",
       "      <td>-0.470477</td>\n",
       "      <td>-0.255366</td>\n",
       "      <td>0.042637</td>\n",
       "    </tr>\n",
       "    <tr>\n",
       "      <th>1</th>\n",
       "      <td>0.879511</td>\n",
       "      <td>0.332631</td>\n",
       "      <td>1.748961</td>\n",
       "      <td>0.723345</td>\n",
       "      <td>-0.166769</td>\n",
       "      <td>-1.189729</td>\n",
       "      <td>0.764797</td>\n",
       "      <td>0.109714</td>\n",
       "      <td>1.422683</td>\n",
       "      <td>0.416934</td>\n",
       "      <td>...</td>\n",
       "      <td>-0.314004</td>\n",
       "      <td>0.304413</td>\n",
       "      <td>-0.068758</td>\n",
       "      <td>0.053729</td>\n",
       "      <td>-0.634467</td>\n",
       "      <td>-0.435794</td>\n",
       "      <td>0.556059</td>\n",
       "      <td>0.570861</td>\n",
       "      <td>0.209341</td>\n",
       "      <td>1.161118</td>\n",
       "    </tr>\n",
       "    <tr>\n",
       "      <th>2</th>\n",
       "      <td>1.245515</td>\n",
       "      <td>0.592771</td>\n",
       "      <td>1.337550</td>\n",
       "      <td>0.752153</td>\n",
       "      <td>-0.002899</td>\n",
       "      <td>-0.699856</td>\n",
       "      <td>-0.061323</td>\n",
       "      <td>-0.069912</td>\n",
       "      <td>1.167910</td>\n",
       "      <td>-0.073176</td>\n",
       "      <td>...</td>\n",
       "      <td>-0.395974</td>\n",
       "      <td>0.565220</td>\n",
       "      <td>-0.758259</td>\n",
       "      <td>-0.282931</td>\n",
       "      <td>-0.026058</td>\n",
       "      <td>0.223918</td>\n",
       "      <td>-0.508889</td>\n",
       "      <td>-0.338081</td>\n",
       "      <td>0.107828</td>\n",
       "      <td>-0.090122</td>\n",
       "    </tr>\n",
       "    <tr>\n",
       "      <th>3</th>\n",
       "      <td>0.799787</td>\n",
       "      <td>-0.061214</td>\n",
       "      <td>0.784000</td>\n",
       "      <td>0.089197</td>\n",
       "      <td>0.327463</td>\n",
       "      <td>-1.297159</td>\n",
       "      <td>0.509977</td>\n",
       "      <td>-1.073557</td>\n",
       "      <td>-0.015553</td>\n",
       "      <td>-1.262565</td>\n",
       "      <td>...</td>\n",
       "      <td>0.586855</td>\n",
       "      <td>-0.562444</td>\n",
       "      <td>-0.479423</td>\n",
       "      <td>-0.890199</td>\n",
       "      <td>-0.796124</td>\n",
       "      <td>0.568335</td>\n",
       "      <td>-0.262505</td>\n",
       "      <td>0.409924</td>\n",
       "      <td>0.973205</td>\n",
       "      <td>0.795200</td>\n",
       "    </tr>\n",
       "    <tr>\n",
       "      <th>4</th>\n",
       "      <td>1.247663</td>\n",
       "      <td>0.793377</td>\n",
       "      <td>1.657449</td>\n",
       "      <td>0.449177</td>\n",
       "      <td>-0.408652</td>\n",
       "      <td>-0.564673</td>\n",
       "      <td>-0.692545</td>\n",
       "      <td>-0.952369</td>\n",
       "      <td>0.843389</td>\n",
       "      <td>-0.143557</td>\n",
       "      <td>...</td>\n",
       "      <td>-0.181284</td>\n",
       "      <td>0.097564</td>\n",
       "      <td>0.192974</td>\n",
       "      <td>-0.585048</td>\n",
       "      <td>-0.113758</td>\n",
       "      <td>-0.219524</td>\n",
       "      <td>0.448546</td>\n",
       "      <td>0.258400</td>\n",
       "      <td>0.194381</td>\n",
       "      <td>1.244057</td>\n",
       "    </tr>\n",
       "  </tbody>\n",
       "</table>\n",
       "<p>5 rows × 90 columns</p>\n",
       "</div>"
      ],
      "text/plain": [
       "         0         1         2         3         4         5         6   \\\n",
       "0  1.078786  0.391566  1.826962  0.466361 -0.476621 -0.275266 -1.551924   \n",
       "1  0.879511  0.332631  1.748961  0.723345 -0.166769 -1.189729  0.764797   \n",
       "2  1.245515  0.592771  1.337550  0.752153 -0.002899 -0.699856 -0.061323   \n",
       "3  0.799787 -0.061214  0.784000  0.089197  0.327463 -1.297159  0.509977   \n",
       "4  1.247663  0.793377  1.657449  0.449177 -0.408652 -0.564673 -0.692545   \n",
       "\n",
       "         7         8         9   ...        80        81        82        83  \\\n",
       "0 -1.311105  0.389093 -0.665402  ... -0.084995  0.106413  0.144257 -0.236180   \n",
       "1  0.109714  1.422683  0.416934  ... -0.314004  0.304413 -0.068758  0.053729   \n",
       "2 -0.069912  1.167910 -0.073176  ... -0.395974  0.565220 -0.758259 -0.282931   \n",
       "3 -1.073557 -0.015553 -1.262565  ...  0.586855 -0.562444 -0.479423 -0.890199   \n",
       "4 -0.952369  0.843389 -0.143557  ... -0.181284  0.097564  0.192974 -0.585048   \n",
       "\n",
       "         84        85        86        87        88        89  \n",
       "0  0.047430 -0.355855  0.544084 -0.470477 -0.255366  0.042637  \n",
       "1 -0.634467 -0.435794  0.556059  0.570861  0.209341  1.161118  \n",
       "2 -0.026058  0.223918 -0.508889 -0.338081  0.107828 -0.090122  \n",
       "3 -0.796124  0.568335 -0.262505  0.409924  0.973205  0.795200  \n",
       "4 -0.113758 -0.219524  0.448546  0.258400  0.194381  1.244057  \n",
       "\n",
       "[5 rows x 90 columns]"
      ]
     },
     "execution_count": 31,
     "metadata": {},
     "output_type": "execute_result"
    }
   ],
   "source": [
    "pd.DataFrame(X_train).head()"
   ]
  },
  {
   "cell_type": "code",
   "execution_count": 12,
   "metadata": {},
   "outputs": [],
   "source": [
    "# обучение и предсказание результатов с помощью бейзлайна\n",
    "model.fit(X_train, y_train)\n",
    "\n",
    "y_pred = model.predict(X_test)\n",
    "rmse_ridge = root_mean_squared_error(y_test, y_pred)"
   ]
  },
  {
   "attachments": {},
   "cell_type": "markdown",
   "metadata": {
    "id": "HJKGuhFi35C4"
   },
   "source": [
    "Лучшая константа для RMSE это среднее, посчитаем значение метрики при нем"
   ]
  },
  {
   "cell_type": "code",
   "execution_count": 13,
   "metadata": {
    "id": "kOcFuy1P35C4"
   },
   "outputs": [
    {
     "name": "stdout",
     "output_type": "stream",
     "text": [
      "1998.4957582800698\n",
      "RMSE Ridge 9.510160820470434\n",
      "RMSE const 5.339868154670301\n"
     ]
    }
   ],
   "source": [
    "y_test_const = np.mean(y_test)\n",
    "print(y_test_const)\n",
    "y_test_const_arr = np.full_like(y_test, y_test_const)\n",
    "\n",
    "best_rmse_metric = root_mean_squared_error(y_test_const_arr, y_pred)\n",
    "\n",
    "print(f\"RMSE Ridge {rmse_ridge}\")\n",
    "print(f\"RMSE const {best_rmse_metric}\")"
   ]
  },
  {
   "attachments": {},
   "cell_type": "markdown",
   "metadata": {
    "id": "BDHAnIkS8vNY"
   },
   "source": [
    "## Задание 2\n",
    "\n",
    "Закрепите свои знания о том, как pytorch работает с обратным распространением ошибки, проделав следующие шаги:\n",
    "\n",
    "1. Создайте модель линейной регрессии, которая будет состоять только из одного Linear слоя.\n",
    "2. Напишите цикл обучения вашей линейной регрессии. В нем реализуйте подсчет функции потерь, сделайте шаг градиентного спуска. Запрещено использовать готовые оптимизаторы и loss-функции из библиотеки pytorch. Для подсчета градиента воспользуйтесь методом backward.\n",
    "3. Запустите обучение на 10 эпохах, после каждой проверяйте значение целевой метрики на тестовой выборке.\n",
    "4. Выведите на экран графики значений функции потерь на тестовой и обучающей выборке.\n",
    "\n",
    "В данном задании нет цели побить какой-то порог по метрике. Ваша задача - убедиться в том, что ваш рукописный цикл обучения работает. Для ускорения вычислений и обучения модели можете брать только срез данных, а не весь датасет."
   ]
  },
  {
   "cell_type": "code",
   "execution_count": 10,
   "metadata": {},
   "outputs": [
    {
     "name": "stderr",
     "output_type": "stream",
     "text": [
      "wandb: Using wandb-core as the SDK backend. Please refer to https://wandb.me/wandb-core for more information.\n",
      "wandb: Currently logged in as: wrl (super_mega_haip_team). Use `wandb login --relogin` to force relogin\n"
     ]
    },
    {
     "data": {
      "text/plain": [
       "True"
      ]
     },
     "execution_count": 10,
     "metadata": {},
     "output_type": "execute_result"
    }
   ],
   "source": [
    "import wandb\n",
    "wandb.login()"
   ]
  },
  {
   "cell_type": "code",
   "execution_count": null,
   "metadata": {},
   "outputs": [],
   "source": [
    "# создание тензоров (массив чисел исп для ml и deep потому что хорошо обрабатываются на gpu)\n",
    "X_train_tensor = torch.tensor(X_train, dtype=torch.float32)\n",
    "y_train_tensor = torch.tensor(y_train, dtype=torch.float32)\n",
    "X_test_tensor = torch.tensor(X_test, dtype=torch.float32)\n",
    "y_test_tensor = torch.tensor(y_test, dtype=torch.float32)\n",
    "\n",
    "\n",
    "train_dataset = torch.utils.data.TensorDataset(X_train_tensor, y_train_tensor)\n",
    "test_dataset = torch.utils.data.TensorDataset(X_test_tensor, y_test_tensor)\n",
    "\n",
    "\n",
    "# создание даталоудеров (разбиение на батчи, перемешивание)\n",
    "train_dataloader = torch.utils.data.DataLoader(\n",
    "    train_dataset, batch_size=64, shuffle=True, num_workers=1\n",
    ")\n",
    "\n",
    "test_dataloader = torch.utils.data.DataLoader(\n",
    "    test_dataset, batch_size=64, shuffle=False, num_workers=1\n",
    ")\n"
   ]
  },
  {
   "cell_type": "code",
   "execution_count": 14,
   "metadata": {},
   "outputs": [],
   "source": [
    "# функция потерь\n",
    "def MSE(y_pred, y):\n",
    "    return ((y - y_pred) ** 2).mean()"
   ]
  },
  {
   "cell_type": "code",
   "execution_count": 13,
   "metadata": {},
   "outputs": [
    {
     "data": {
      "text/html": [
       "Tracking run with wandb version 0.18.5"
      ],
      "text/plain": [
       "<IPython.core.display.HTML object>"
      ]
     },
     "metadata": {},
     "output_type": "display_data"
    },
    {
     "data": {
      "text/html": [
       "Run data is saved locally in <code>c:\\Users\\a.z\\Desktop\\t\\study\\AI\\trhrhrthe\\wandb\\run-20241029_211301-oy0kpj4n</code>"
      ],
      "text/plain": [
       "<IPython.core.display.HTML object>"
      ]
     },
     "metadata": {},
     "output_type": "display_data"
    },
    {
     "data": {
      "text/html": [
       "Syncing run <strong><a href='https://wandb.ai/super_mega_haip_team/pytorch-demo/runs/oy0kpj4n' target=\"_blank\">lucky-flower-3</a></strong> to <a href='https://wandb.ai/super_mega_haip_team/pytorch-demo' target=\"_blank\">Weights & Biases</a> (<a href='https://wandb.me/run' target=\"_blank\">docs</a>)<br/>"
      ],
      "text/plain": [
       "<IPython.core.display.HTML object>"
      ]
     },
     "metadata": {},
     "output_type": "display_data"
    },
    {
     "data": {
      "text/html": [
       " View project at <a href='https://wandb.ai/super_mega_haip_team/pytorch-demo' target=\"_blank\">https://wandb.ai/super_mega_haip_team/pytorch-demo</a>"
      ],
      "text/plain": [
       "<IPython.core.display.HTML object>"
      ]
     },
     "metadata": {},
     "output_type": "display_data"
    },
    {
     "data": {
      "text/html": [
       " View run at <a href='https://wandb.ai/super_mega_haip_team/pytorch-demo/runs/oy0kpj4n' target=\"_blank\">https://wandb.ai/super_mega_haip_team/pytorch-demo/runs/oy0kpj4n</a>"
      ],
      "text/plain": [
       "<IPython.core.display.HTML object>"
      ]
     },
     "metadata": {},
     "output_type": "display_data"
    },
    {
     "data": {
      "text/html": [
       "<button onClick=\"this.nextSibling.style.display='block';this.style.display='none';\">Display W&B run</button><iframe src='https://wandb.ai/super_mega_haip_team/pytorch-demo/runs/oy0kpj4n?jupyter=true' style='border:none;width:100%;height:420px;display:none;'></iframe>"
      ],
      "text/plain": [
       "<wandb.sdk.wandb_run.Run at 0x23523ae6740>"
      ]
     },
     "execution_count": 13,
     "metadata": {},
     "output_type": "execute_result"
    }
   ],
   "source": [
    "\n",
    "wandb.init(project=\"pytorch-demo\")\n",
    "# сохраняем параметры сетки в wandb + просим следить за градиентами сетки\n"
   ]
  },
  {
   "cell_type": "code",
   "execution_count": 16,
   "metadata": {
    "id": "LxnT6G1J-apf"
   },
   "outputs": [
    {
     "data": {
      "application/vnd.jupyter.widget-view+json": {
       "model_id": "05c7cd4b379a47fca8b37890dba1929c",
       "version_major": 2,
       "version_minor": 0
      },
      "text/plain": [
       "  0%|          | 0/7246 [00:00<?, ?it/s]"
      ]
     },
     "metadata": {},
     "output_type": "display_data"
    },
    {
     "data": {
      "application/vnd.jupyter.widget-view+json": {
       "model_id": "e437c5ddcef14bde85a3b08e07e1857f",
       "version_major": 2,
       "version_minor": 0
      },
      "text/plain": [
       "  0%|          | 0/807 [00:00<?, ?it/s]"
      ]
     },
     "metadata": {},
     "output_type": "display_data"
    },
    {
     "name": "stdout",
     "output_type": "stream",
     "text": [
      "Epoch: 1, Train rmse: 14.03823184967041, Test rmse: 9.747321128845215\n"
     ]
    },
    {
     "data": {
      "application/vnd.jupyter.widget-view+json": {
       "model_id": "b04f18d4316543758d74cd51aabf08f9",
       "version_major": 2,
       "version_minor": 0
      },
      "text/plain": [
       "  0%|          | 0/7246 [00:00<?, ?it/s]"
      ]
     },
     "metadata": {},
     "output_type": "display_data"
    },
    {
     "data": {
      "application/vnd.jupyter.widget-view+json": {
       "model_id": "ce59f54ef0a842ac807f5a68a2db55f7",
       "version_major": 2,
       "version_minor": 0
      },
      "text/plain": [
       "  0%|          | 0/807 [00:00<?, ?it/s]"
      ]
     },
     "metadata": {},
     "output_type": "display_data"
    },
    {
     "name": "stdout",
     "output_type": "stream",
     "text": [
      "Epoch: 2, Train rmse: 10.860387802124023, Test rmse: 9.568021774291992\n"
     ]
    },
    {
     "data": {
      "application/vnd.jupyter.widget-view+json": {
       "model_id": "b42e4899478940b2a3d9f39d11786b10",
       "version_major": 2,
       "version_minor": 0
      },
      "text/plain": [
       "  0%|          | 0/7246 [00:00<?, ?it/s]"
      ]
     },
     "metadata": {},
     "output_type": "display_data"
    },
    {
     "data": {
      "application/vnd.jupyter.widget-view+json": {
       "model_id": "0e899d69bc544595a083cb98e8ce82eb",
       "version_major": 2,
       "version_minor": 0
      },
      "text/plain": [
       "  0%|          | 0/807 [00:00<?, ?it/s]"
      ]
     },
     "metadata": {},
     "output_type": "display_data"
    },
    {
     "name": "stdout",
     "output_type": "stream",
     "text": [
      "Epoch: 3, Train rmse: 10.853981018066406, Test rmse: 9.642841339111328\n"
     ]
    },
    {
     "data": {
      "application/vnd.jupyter.widget-view+json": {
       "model_id": "a75a5119df6d44b987ae0f9db0d66671",
       "version_major": 2,
       "version_minor": 0
      },
      "text/plain": [
       "  0%|          | 0/7246 [00:00<?, ?it/s]"
      ]
     },
     "metadata": {},
     "output_type": "display_data"
    },
    {
     "data": {
      "application/vnd.jupyter.widget-view+json": {
       "model_id": "02e22cdda0d64ad38c78efcccf9f6584",
       "version_major": 2,
       "version_minor": 0
      },
      "text/plain": [
       "  0%|          | 0/807 [00:00<?, ?it/s]"
      ]
     },
     "metadata": {},
     "output_type": "display_data"
    },
    {
     "name": "stdout",
     "output_type": "stream",
     "text": [
      "Epoch: 4, Train rmse: 10.84898567199707, Test rmse: 9.60754680633545\n"
     ]
    },
    {
     "data": {
      "application/vnd.jupyter.widget-view+json": {
       "model_id": "593e0ad630834880a082ec01e0fbe69f",
       "version_major": 2,
       "version_minor": 0
      },
      "text/plain": [
       "  0%|          | 0/7246 [00:00<?, ?it/s]"
      ]
     },
     "metadata": {},
     "output_type": "display_data"
    },
    {
     "data": {
      "application/vnd.jupyter.widget-view+json": {
       "model_id": "970eaaa4e9a64deea5ebcb33aac03bf1",
       "version_major": 2,
       "version_minor": 0
      },
      "text/plain": [
       "  0%|          | 0/807 [00:00<?, ?it/s]"
      ]
     },
     "metadata": {},
     "output_type": "display_data"
    },
    {
     "name": "stdout",
     "output_type": "stream",
     "text": [
      "Epoch: 5, Train rmse: 10.854689598083496, Test rmse: 9.836392402648926\n"
     ]
    },
    {
     "data": {
      "application/vnd.jupyter.widget-view+json": {
       "model_id": "25784edf1f3c405cb7a2f0aef73cf306",
       "version_major": 2,
       "version_minor": 0
      },
      "text/plain": [
       "  0%|          | 0/7246 [00:00<?, ?it/s]"
      ]
     },
     "metadata": {},
     "output_type": "display_data"
    },
    {
     "data": {
      "application/vnd.jupyter.widget-view+json": {
       "model_id": "0b2ed5ba737c4017b3acd7de2cde3d39",
       "version_major": 2,
       "version_minor": 0
      },
      "text/plain": [
       "  0%|          | 0/807 [00:00<?, ?it/s]"
      ]
     },
     "metadata": {},
     "output_type": "display_data"
    },
    {
     "name": "stdout",
     "output_type": "stream",
     "text": [
      "Epoch: 6, Train rmse: 10.855838775634766, Test rmse: 9.7455415725708\n"
     ]
    },
    {
     "data": {
      "application/vnd.jupyter.widget-view+json": {
       "model_id": "81a03d77cf3b42e79c6124360df3456f",
       "version_major": 2,
       "version_minor": 0
      },
      "text/plain": [
       "  0%|          | 0/7246 [00:00<?, ?it/s]"
      ]
     },
     "metadata": {},
     "output_type": "display_data"
    },
    {
     "data": {
      "application/vnd.jupyter.widget-view+json": {
       "model_id": "89b0e6980db740aea323f18719fdf557",
       "version_major": 2,
       "version_minor": 0
      },
      "text/plain": [
       "  0%|          | 0/807 [00:00<?, ?it/s]"
      ]
     },
     "metadata": {},
     "output_type": "display_data"
    },
    {
     "name": "stdout",
     "output_type": "stream",
     "text": [
      "Epoch: 7, Train rmse: 10.85048770904541, Test rmse: 9.606575965881348\n"
     ]
    },
    {
     "data": {
      "application/vnd.jupyter.widget-view+json": {
       "model_id": "32d99cf25b284cda9c44c26e3b5d4279",
       "version_major": 2,
       "version_minor": 0
      },
      "text/plain": [
       "  0%|          | 0/7246 [00:00<?, ?it/s]"
      ]
     },
     "metadata": {},
     "output_type": "display_data"
    },
    {
     "data": {
      "application/vnd.jupyter.widget-view+json": {
       "model_id": "856241eca0df465c88de966afc58ab43",
       "version_major": 2,
       "version_minor": 0
      },
      "text/plain": [
       "  0%|          | 0/807 [00:00<?, ?it/s]"
      ]
     },
     "metadata": {},
     "output_type": "display_data"
    },
    {
     "name": "stdout",
     "output_type": "stream",
     "text": [
      "Epoch: 8, Train rmse: 10.85341739654541, Test rmse: 9.737456321716309\n"
     ]
    },
    {
     "data": {
      "application/vnd.jupyter.widget-view+json": {
       "model_id": "7af35ad633c04919acfc545efea0b486",
       "version_major": 2,
       "version_minor": 0
      },
      "text/plain": [
       "  0%|          | 0/7246 [00:00<?, ?it/s]"
      ]
     },
     "metadata": {},
     "output_type": "display_data"
    },
    {
     "data": {
      "application/vnd.jupyter.widget-view+json": {
       "model_id": "0014ed347d044154aa7413b98f2e6b6f",
       "version_major": 2,
       "version_minor": 0
      },
      "text/plain": [
       "  0%|          | 0/807 [00:00<?, ?it/s]"
      ]
     },
     "metadata": {},
     "output_type": "display_data"
    },
    {
     "name": "stdout",
     "output_type": "stream",
     "text": [
      "Epoch: 9, Train rmse: 10.986112594604492, Test rmse: 9.850177764892578\n"
     ]
    },
    {
     "data": {
      "application/vnd.jupyter.widget-view+json": {
       "model_id": "4fcc0dc3b8824628bbd18c508365afb2",
       "version_major": 2,
       "version_minor": 0
      },
      "text/plain": [
       "  0%|          | 0/7246 [00:00<?, ?it/s]"
      ]
     },
     "metadata": {},
     "output_type": "display_data"
    },
    {
     "data": {
      "application/vnd.jupyter.widget-view+json": {
       "model_id": "576d5793462549b0b16c74691fd7e96d",
       "version_major": 2,
       "version_minor": 0
      },
      "text/plain": [
       "  0%|          | 0/807 [00:00<?, ?it/s]"
      ]
     },
     "metadata": {},
     "output_type": "display_data"
    },
    {
     "name": "stdout",
     "output_type": "stream",
     "text": [
      "Epoch: 10, Train rmse: 10.85053825378418, Test rmse: 9.636263847351074\n"
     ]
    }
   ],
   "source": [
    "# ⸂⸂⸜(രᴗര๑)⸝⸃⸃ Good luck!\n",
    "\n",
    "lin_model = nn.Linear(in_features=90, out_features=1).to(device)\n",
    "# wandb.watch(lin_model)\n",
    "# массивы для хранения потерь за каждую эпоху (средние значения по всем батчам в эпохе)\n",
    "train_losses = []\n",
    "test_losses = []\n",
    "\n",
    "lr = 0.05\n",
    "\n",
    "for i in range(10):\n",
    "    \n",
    "    train_losses_epoch = [] # массив для хранения лоссов по батчу\n",
    "    test_losses_epoch = []\n",
    "\n",
    "    for x_train, y_train_lin in tqdm(train_dataloader):  # берем батч из трейн лоадера\n",
    "        y_pred = lin_model(x_train.to(device))  # делаем предсказания\n",
    "        loss = MSE(y_pred, y_train_lin.to(device))  # считаем лосс\n",
    "        train_losses_epoch.append(torch.sqrt(loss).detach().cpu().numpy())\n",
    "        loss.backward()  # считаем градиенты обратным проходом\n",
    "\n",
    "        # обновление весов без оптимизатора (sgd)\n",
    "        with torch.no_grad():\n",
    "            for v in lin_model.parameters():\n",
    "                v -= lr * v.grad\n",
    "    \n",
    "        lin_model.zero_grad()\n",
    "    \n",
    "    with torch.no_grad():\n",
    "        for x_test, y_test_lin in tqdm(test_dataloader):\n",
    "            y_pred_test = lin_model(x_test.to(device))\n",
    "            test_loss = MSE(y_pred_test, y_test_lin.to(device))\n",
    "            test_losses_epoch.append(torch.sqrt(test_loss).cpu().numpy())\n",
    "    \n",
    "    \n",
    "    # wandb.log(\n",
    "    #     {\n",
    "    #         \"train loss\": np.mean(train_losses_epoch),\n",
    "    #         \"test loss\": np.mean(test_losses_epoch),\n",
    "    #     }\n",
    "    # )\n",
    "\n",
    "    train_losses.append(np.mean(train_losses_epoch))\n",
    "    test_losses.append(np.mean(test_losses_epoch))\n",
    "\n",
    "\n",
    "\n",
    "    print(f\"Epoch: {i+1}, Train rmse: {np.mean(train_losses_epoch)}, Test rmse: {np.mean(test_losses_epoch)}\")\n",
    "    \n",
    "        \n"
   ]
  },
  {
   "cell_type": "code",
   "execution_count": 17,
   "metadata": {},
   "outputs": [
    {
     "data": {
      "image/png": "[encoded data removed]",
      "text/plain": [
       "<Figure size 1000x500 with 1 Axes>"
      ]
     },
     "metadata": {},
     "output_type": "display_data"
    }
   ],
   "source": [
    "plt.figure(figsize=(10,5))\n",
    "plt.plot(np.arange(1, 11, 1), train_losses, label='Train Loss')\n",
    "plt.plot(np.arange(1, 11, 1), test_losses, label='Test Loss')\n",
    "plt.xlabel('Epoch')\n",
    "plt.xticks(np.arange(1, 11, 1))\n",
    "plt.ylabel('RMSE Loss')\n",
    "plt.legend()\n",
    "plt.show()"
   ]
  },
  {
   "attachments": {},
   "cell_type": "markdown",
   "metadata": {
    "id": "_6ilBKYt6OdD"
   },
   "source": [
    "## Задание 3\n",
    "\n",
    "Реализуйте обучение и тестирование нейронной сети для предоставленного вам набора данных. Соотношение между полученным значением метрики на тестовой выборке и коэффициентом, применяемым к заданию, следующее:\n",
    "\n",
    "- $\\text{RMSE} \\le 9.00 $ &mdash; 0.6\n",
    "- $\\text{RMSE} \\le 8.90 $ &mdash; 0.7\n",
    "- $\\text{RMSE} \\le 8.80 $ &mdash; 0.8\n",
    "- $\\text{RMSE} \\le 8.75 $ &mdash; 1.0\n",
    "\n",
    "Есть несколько правил, которых вам нужно придерживаться:\n",
    "\n",
    "- Весь пайплайн обучения должен быть написан на PyTorch. При этом вы можете пользоваться другими библиотеками (`numpy`, `sklearn` и пр.), но только для обработки данных. То есть как угодно трансформировать данные и считать метрики с помощью этих библиотек можно, а импортировать модели из `sklearn` и выбивать с их помощью требуемое качество &mdash; нельзя. Также нельзя пользоваться библиотеками, для которых сам PyTorch является зависимостью.\n",
    "\n",
    "- Мы никак не ограничиваем ваш выбор архитектуры модели, но скорее всего вам будет достаточно полносвязной нейронной сети.\n",
    "\n",
    "- Для обучения запрещается использовать какие-либо иные данные, кроме обучающей выборки.\n",
    "\n",
    "- Ансамблирование моделей запрещено.\n",
    "\n",
    "### Полезные советы:\n",
    "\n",
    "- Очень вряд ли, что у вас с первого раза получится выбить качество на **10 баллов**, поэтому пробуйте разные архитектуры, оптимизаторы и значения гиперпараметров. В идеале при запуске каждого нового эксперимента вы должны менять что-то одно, чтобы точно знать, как этот фактор влияет на качество.\n",
    "\n",
    "- Не забудьте, что для улучшения качества модели вам поможет **нормировка таргета**.\n",
    "\n",
    "- Тот факт, что мы занимаемся глубинным обучением, не означает, что стоит забывать про приемы, использующиеся в классическом машинном обучении. Так что обязательно проводите исследовательский анализ данных, отрисовывайте нужные графики и не забывайте про масштабирование и подбор гиперпараметров.\n",
    "\n",
    "- Вы наверняка столкнетесь с тем, что ваша нейронная сеть будет сильно переобучаться. Для нейросетей существуют специальные методы регуляризации, например, dropout ([статья](https://jmlr.org/papers/volume15/srivastava14a/srivastava14a.pdf)) и weight decay ([блогпост](https://towardsdatascience.com/this-thing-called-weight-decay-a7cd4bcfccab)). Они, разумеется, реализованы в PyTorch. Попробуйте поэкспериментировать с ними.\n",
    "\n",
    "- Если вы чего-то не знаете, не гнушайтесь гуглить. В интернете очень много полезной информации, туториалов и советов по глубинному обучению в целом и по PyTorch в частности. Но не забывайте, что за скатанный код без ссылки на источник придется ответить по всей строгости!\n",
    "\n",
    "- Если вы сразу реализуете обучение на GPU, то у вас будет больше времени на эксперименты, так как любые вычисления будут работать быстрее. Google Colab предоставляет несколько GPU-часов (обычно около 8-10) в сутки бесплатно.\n",
    "\n",
    "- Чтобы отладить код, можете обучаться на небольшой части данных или даже на одном батче. Если лосс на обучающей выборке не падает, то что-то точно идет не так!\n",
    "\n",
    "- Пользуйтесь утилитами, которые вам предоставляет PyTorch (например, Dataset и Dataloader). Их специально разработали для упрощения разработки пайплайна обучения.\n",
    "\n",
    "- Скорее всего вы захотите отслеживать прогресс обучения. Для создания прогресс-баров есть удобная библиотека `tqdm`.\n",
    "\n",
    "- Быть может, вы захотите, чтобы графики рисовались прямо во время обучения. Можете воспользоваться функцией [clear_output](http://ipython.org/ipython-doc/dev/api/generated/IPython.display.html#IPython.display.clear_output), чтобы удалять старый график и рисовать новый на его месте.\n",
    "\n",
    "**ОБЯЗАТЕЛЬНО** рисуйте графики зависимости лосса/метрики на обучающей и тестовой выборках в зависимости от времени обучения. Если обучение занимает относительно небольшое число эпох, то лучше рисовать зависимость от номера шага обучения, если же эпох больше, то рисуйте зависимость по эпохам. Если проверяющий не увидит такого графика для вашей лучшей модели, то он в праве снизить баллы за задание.\n",
    "\n",
    "**ВАЖНО!** Ваше решение должно быть воспроизводимым. Если это не так, то проверяющий имеет право снизить баллы за задание. Чтобы зафиксировать random seed, воспользуйтесь функцией из предыдущего задания.\n",
    "\n"
   ]
  },
  {
   "attachments": {},
   "cell_type": "markdown",
   "metadata": {
    "id": "TZW0gMe3vT8u"
   },
   "source": [
    "Вы можете придерживаться любой адекватной струкуры кода, но мы советуем воспользоваться сигнатурами функций, которые приведены ниже. Лучше всего, если вы проверите ваши предсказания ассертом: так вы убережете себя от разных косяков, например, что вектор предсказаний состоит из всего одного числа. В любом случае, внимательно следите за тем, для каких тензоров вы считаете метрику RMSE. При случайном или намеренном введении в заблуждение проверяющие очень сильно разозлятся."
   ]
  },
  {
   "cell_type": "code",
   "execution_count": 26,
   "metadata": {},
   "outputs": [],
   "source": [
    "from sklearn.preprocessing import StandardScaler\n",
    "\n",
    "scaler = StandardScaler()\n",
    "\n",
    "X = df.iloc[:, 1:].values\n",
    "y = df.iloc[:, 0].values\n",
    "\n",
    "train_size = 463715\n",
    "X_train = X[:train_size, :]\n",
    "y_train = y[:train_size]\n",
    "X_test = X[train_size:, :]\n",
    "y_test = y[train_size:]\n",
    "\n",
    "\n",
    "# изменение данных (масштабирование)\n",
    "\n",
    "X_train = scaler.fit_transform(X_train) #обучение (нахождение правил как трансформировать и трансформация)\n",
    "X_test = scaler.transform(X_test) #трансвормация (уже есть правила как трансформировать)\n",
    "\n",
    "\n",
    "X_train_tensor = torch.tensor(X_train, dtype=torch.float32)\n",
    "y_train_tensor = torch.tensor(y_train, dtype=torch.float32)\n",
    "X_test_tensor = torch.tensor(X_test, dtype=torch.float32)\n",
    "y_test_tensor = torch.tensor(y_test, dtype=torch.float32)\n",
    "\n",
    "train_set = torch.utils.data.TensorDataset(X_train_tensor, y_train_tensor)\n",
    "train_loader = torch.utils.data.DataLoader(\n",
    "    train_set, batch_size=64, shuffle=True, num_workers=1\n",
    ")\n",
    "\n",
    "test_set = torch.utils.data.TensorDataset(X_test_tensor, y_test_tensor)\n",
    "test_loader = torch.utils.data.DataLoader(\n",
    "    test_set, batch_size=64, shuffle=True, num_workers=1\n",
    ")"
   ]
  },
  {
   "cell_type": "code",
   "execution_count": 27,
   "metadata": {},
   "outputs": [],
   "source": [
    "model = nn.Sequential(nn.Linear(90, 140),\n",
    "                      nn.LayerNorm(140),\n",
    "                      nn.ReLU(),\n",
    "                      nn.Dropout(0.3),\n",
    "                      nn.Linear(140, 70),\n",
    "                      nn.ReLU(),\n",
    "                      nn.Linear(70, 35),\n",
    "                      nn.LayerNorm(35),\n",
    "                      nn.ReLU(),\n",
    "                      nn.Linear(35,1),\n",
    "                      ).to(device)\n",
    "optimizer = torch.optim.Adam(model.parameters(), lr = 0.001)\n",
    "criterion = nn.MSELoss() #L1Loss - mae\n",
    "\n"
   ]
  },
  {
   "cell_type": "code",
   "execution_count": 28,
   "metadata": {},
   "outputs": [],
   "source": [
    "def train(model, optimizer, criterion, train_loader, test_loader):\n",
    "    \"\"\"\n",
    "    params:\n",
    "        model - torch.nn.Module to be fitted\n",
    "        optimizer - model optimizer\n",
    "        criterion - loss function from torch.nn\n",
    "        train_loader - torch.utils.data.Dataloader with train set\n",
    "        test_loader - torch.utils.data.Dataloader with test set\n",
    "                      (if you wish to validate during training)\n",
    "    \"\"\"\n",
    "    # (－.－)...zzzZZZzzzZZZ\n",
    "\n",
    "    # массивы для rmse для графиков\n",
    "    train_losses = []\n",
    "    test_losses = []\n",
    "\n",
    "    for epoch in range(10):\n",
    "        model.train()\n",
    "\n",
    "        train_losses_epoch = [] # rmse на обучающей выборке за эпоху\n",
    "        test_losses_epoch = [] # rmse на тестовой выборке за эпоху\n",
    "\n",
    "        for x_train, y_train_model in tqdm(train_loader):  # берем батч из трейн лоадера\n",
    "            y_pred = model(x_train.to(device))  # делаем предсказания\n",
    "            loss = criterion(y_pred.squeeze(), y_train_model.to(device))  # считаем лосс mse\n",
    "            train_losses_epoch.append(torch.sqrt(loss).detach().cpu().numpy())\n",
    "            loss.backward()  # считаем градиенты обратным проходом\n",
    "            optimizer.step()\n",
    "            optimizer.zero_grad()\n",
    "\n",
    "        model.eval()\n",
    "        with torch.no_grad():\n",
    "            for X_test, y_test_model in tqdm(test_loader):\n",
    "                y_pred_test = model(X_test.to(device))\n",
    "                test_loss = criterion(y_pred_test.squeeze(), y_test_model.to(device))\n",
    "                test_losses_epoch.append(torch.sqrt(test_loss).cpu().numpy())\n",
    "                \n",
    "                    \n",
    "        train_losses.append(np.mean(train_losses_epoch))\n",
    "        test_losses.append(np.mean(test_losses_epoch))            \n",
    "\n",
    "\n",
    "        print(f\"Epoch: {epoch+1}, Train RMSE: {np.mean(train_losses_epoch)}, Test RMSE: {np.mean(test_losses_epoch)}\")\n",
    "        \n",
    "\n",
    "    paint_graphic(train_losses, \"Train loss\")\n",
    "    paint_graphic(test_losses, \"Test loss\")\n",
    "\n",
    "\n",
    "\n",
    "\n",
    "def test(model, criterion, test_loader):\n",
    "    \"\"\"\n",
    "    params:\n",
    "        model - torch.nn.Module to be evaluated on test set\n",
    "        criterion - loss function from torch.nn\n",
    "        test_loader - torch.utils.data.Dataloader with test set\n",
    "    ----------\n",
    "    returns:\n",
    "        predicts - torch.tensor with shape (len(test_loader.dataset), ),\n",
    "                   which contains predictions for test objects\n",
    "    \"\"\"\n",
    "    # (－.－)...zzzZZZzzzZZZ\n",
    "    model.eval()\n",
    "    predictions = [] # предсказания\n",
    "    losses = [] # rmse\n",
    "    \n",
    "\n",
    "    with torch.no_grad():\n",
    "        for X_test, y_test_model in tqdm(test_loader):\n",
    "            y_pred_test = model(X_test.to(device))\n",
    "            test_loss = criterion(y_pred_test.squeeze(), y_test_model.to(device))\n",
    "            predictions.append(y_pred_test.cpu())\n",
    "\n",
    "            losses.append(torch.sqrt(test_loss).cpu().numpy())\n",
    "            \n",
    "            \n",
    "    print(f\"RMSE: {np.mean(losses)}\")    \n",
    "\n",
    "    predicts = torch.cat(predictions)\n",
    "\n",
    "    return predicts\n",
    "\n",
    "\n",
    "def paint_graphic(losses, loss_type, num_epochs = 10):\n",
    "    plt.figure(figsize=(10,5))\n",
    "    plt.plot(np.arange(1, num_epochs+1, 1), losses, label=loss_type)\n",
    "    plt.xlabel('Epoch')\n",
    "    plt.xticks(np.arange(1, num_epochs+1, 1))\n",
    "    plt.ylabel('RMSE Loss')\n",
    "    plt.legend()\n",
    "    plt.show()\n"
   ]
  },
  {
   "cell_type": "code",
   "execution_count": 23,
   "metadata": {},
   "outputs": [
    {
     "data": {
      "application/vnd.jupyter.widget-view+json": {
       "model_id": "3d61bd9574064818b2b9af916d0a4d08",
       "version_major": 2,
       "version_minor": 0
      },
      "text/plain": [
       "  0%|          | 0/807 [00:00<?, ?it/s]"
      ]
     },
     "metadata": {},
     "output_type": "display_data"
    },
    {
     "name": "stdout",
     "output_type": "stream",
     "text": [
      "RMSE: 8.645354270935059\n"
     ]
    }
   ],
   "source": [
    "assert test(model, criterion, test_loader).shape[0] == y_test.shape[0]"
   ]
  },
  {
   "cell_type": "code",
   "execution_count": 29,
   "metadata": {
    "id": "ZglNls8l-1VZ"
   },
   "outputs": [
    {
     "data": {
      "application/vnd.jupyter.widget-view+json": {
       "model_id": "abb1af5607994353a88c4994aeae917a",
       "version_major": 2,
       "version_minor": 0
      },
      "text/plain": [
       "  0%|          | 0/7246 [00:00<?, ?it/s]"
      ]
     },
     "metadata": {},
     "output_type": "display_data"
    },
    {
     "data": {
      "application/vnd.jupyter.widget-view+json": {
       "model_id": "b85b98342f0e4983badde49a1b255b48",
       "version_major": 2,
       "version_minor": 0
      },
      "text/plain": [
       "  0%|          | 0/807 [00:00<?, ?it/s]"
      ]
     },
     "metadata": {},
     "output_type": "display_data"
    },
    {
     "name": "stdout",
     "output_type": "stream",
     "text": [
      "Epoch: 1, Train RMSE: 1191.922119140625, Test RMSE: 155.38101196289062\n"
     ]
    },
    {
     "data": {
      "application/vnd.jupyter.widget-view+json": {
       "model_id": "a7baca7c2eeb4d08bfe85564a24a1e61",
       "version_major": 2,
       "version_minor": 0
      },
      "text/plain": [
       "  0%|          | 0/7246 [00:00<?, ?it/s]"
      ]
     },
     "metadata": {},
     "output_type": "display_data"
    },
    {
     "data": {
      "application/vnd.jupyter.widget-view+json": {
       "model_id": "297d1881e2904d0e8c456d4b34d4ea07",
       "version_major": 2,
       "version_minor": 0
      },
      "text/plain": [
       "  0%|          | 0/807 [00:00<?, ?it/s]"
      ]
     },
     "metadata": {},
     "output_type": "display_data"
    },
    {
     "name": "stdout",
     "output_type": "stream",
     "text": [
      "Epoch: 2, Train RMSE: 20.503890991210938, Test RMSE: 8.814994812011719\n"
     ]
    },
    {
     "data": {
      "application/vnd.jupyter.widget-view+json": {
       "model_id": "5858aea590c8475c94407bd662387767",
       "version_major": 2,
       "version_minor": 0
      },
      "text/plain": [
       "  0%|          | 0/7246 [00:00<?, ?it/s]"
      ]
     },
     "metadata": {},
     "output_type": "display_data"
    },
    {
     "data": {
      "application/vnd.jupyter.widget-view+json": {
       "model_id": "180738e91ade408c93ef28be6263efdb",
       "version_major": 2,
       "version_minor": 0
      },
      "text/plain": [
       "  0%|          | 0/807 [00:00<?, ?it/s]"
      ]
     },
     "metadata": {},
     "output_type": "display_data"
    },
    {
     "name": "stdout",
     "output_type": "stream",
     "text": [
      "Epoch: 3, Train RMSE: 8.740779876708984, Test RMSE: 8.737469673156738\n"
     ]
    },
    {
     "data": {
      "application/vnd.jupyter.widget-view+json": {
       "model_id": "fffcaf0a203049e990a1e8235a30c292",
       "version_major": 2,
       "version_minor": 0
      },
      "text/plain": [
       "  0%|          | 0/7246 [00:00<?, ?it/s]"
      ]
     },
     "metadata": {},
     "output_type": "display_data"
    },
    {
     "data": {
      "application/vnd.jupyter.widget-view+json": {
       "model_id": "472c571ca5074db69fde744a7f1d2df9",
       "version_major": 2,
       "version_minor": 0
      },
      "text/plain": [
       "  0%|          | 0/807 [00:00<?, ?it/s]"
      ]
     },
     "metadata": {},
     "output_type": "display_data"
    },
    {
     "name": "stdout",
     "output_type": "stream",
     "text": [
      "Epoch: 4, Train RMSE: 8.676125526428223, Test RMSE: 8.703697204589844\n"
     ]
    },
    {
     "data": {
      "application/vnd.jupyter.widget-view+json": {
       "model_id": "e639679f4270406d90223d2e5a308f87",
       "version_major": 2,
       "version_minor": 0
      },
      "text/plain": [
       "  0%|          | 0/7246 [00:00<?, ?it/s]"
      ]
     },
     "metadata": {},
     "output_type": "display_data"
    },
    {
     "data": {
      "application/vnd.jupyter.widget-view+json": {
       "model_id": "cf886c174d3a4aa4876e79de2e1122f2",
       "version_major": 2,
       "version_minor": 0
      },
      "text/plain": [
       "  0%|          | 0/807 [00:00<?, ?it/s]"
      ]
     },
     "metadata": {},
     "output_type": "display_data"
    },
    {
     "name": "stdout",
     "output_type": "stream",
     "text": [
      "Epoch: 5, Train RMSE: 8.631634712219238, Test RMSE: 8.694817543029785\n"
     ]
    },
    {
     "data": {
      "application/vnd.jupyter.widget-view+json": {
       "model_id": "78c22d04ccca4fc6b8ea3d9d4734fa24",
       "version_major": 2,
       "version_minor": 0
      },
      "text/plain": [
       "  0%|          | 0/7246 [00:00<?, ?it/s]"
      ]
     },
     "metadata": {},
     "output_type": "display_data"
    },
    {
     "data": {
      "application/vnd.jupyter.widget-view+json": {
       "model_id": "01fcde1bd5e14f42bfa19a1006261efa",
       "version_major": 2,
       "version_minor": 0
      },
      "text/plain": [
       "  0%|          | 0/807 [00:00<?, ?it/s]"
      ]
     },
     "metadata": {},
     "output_type": "display_data"
    },
    {
     "name": "stdout",
     "output_type": "stream",
     "text": [
      "Epoch: 6, Train RMSE: 8.592851638793945, Test RMSE: 8.687602996826172\n"
     ]
    },
    {
     "data": {
      "application/vnd.jupyter.widget-view+json": {
       "model_id": "9a4877fc568743bb9099a55ca5015471",
       "version_major": 2,
       "version_minor": 0
      },
      "text/plain": [
       "  0%|          | 0/7246 [00:00<?, ?it/s]"
      ]
     },
     "metadata": {},
     "output_type": "display_data"
    },
    {
     "data": {
      "application/vnd.jupyter.widget-view+json": {
       "model_id": "494e175b4544429283dea9d3b6651223",
       "version_major": 2,
       "version_minor": 0
      },
      "text/plain": [
       "  0%|          | 0/807 [00:00<?, ?it/s]"
      ]
     },
     "metadata": {},
     "output_type": "display_data"
    },
    {
     "name": "stdout",
     "output_type": "stream",
     "text": [
      "Epoch: 7, Train RMSE: 8.56137466430664, Test RMSE: 8.660110473632812\n"
     ]
    },
    {
     "data": {
      "application/vnd.jupyter.widget-view+json": {
       "model_id": "953ba2d3fb0845229d952af57ebf47f3",
       "version_major": 2,
       "version_minor": 0
      },
      "text/plain": [
       "  0%|          | 0/7246 [00:00<?, ?it/s]"
      ]
     },
     "metadata": {},
     "output_type": "display_data"
    },
    {
     "data": {
      "application/vnd.jupyter.widget-view+json": {
       "model_id": "725cef49e58a495c9f7e2e8aa9eca422",
       "version_major": 2,
       "version_minor": 0
      },
      "text/plain": [
       "  0%|          | 0/807 [00:00<?, ?it/s]"
      ]
     },
     "metadata": {},
     "output_type": "display_data"
    },
    {
     "name": "stdout",
     "output_type": "stream",
     "text": [
      "Epoch: 8, Train RMSE: 8.536571502685547, Test RMSE: 8.651850700378418\n"
     ]
    },
    {
     "data": {
      "application/vnd.jupyter.widget-view+json": {
       "model_id": "1d7e4b680a994fdb9c2dca9ecf611455",
       "version_major": 2,
       "version_minor": 0
      },
      "text/plain": [
       "  0%|          | 0/7246 [00:00<?, ?it/s]"
      ]
     },
     "metadata": {},
     "output_type": "display_data"
    },
    {
     "data": {
      "application/vnd.jupyter.widget-view+json": {
       "model_id": "dcc302a2ebca4c99a5357ac72ff648c5",
       "version_major": 2,
       "version_minor": 0
      },
      "text/plain": [
       "  0%|          | 0/807 [00:00<?, ?it/s]"
      ]
     },
     "metadata": {},
     "output_type": "display_data"
    },
    {
     "name": "stdout",
     "output_type": "stream",
     "text": [
      "Epoch: 9, Train RMSE: 8.510025024414062, Test RMSE: 8.69072151184082\n"
     ]
    },
    {
     "data": {
      "application/vnd.jupyter.widget-view+json": {
       "model_id": "5d6ee6fe469741dfb1359406f6b6dda8",
       "version_major": 2,
       "version_minor": 0
      },
      "text/plain": [
       "  0%|          | 0/7246 [00:00<?, ?it/s]"
      ]
     },
     "metadata": {},
     "output_type": "display_data"
    },
    {
     "data": {
      "application/vnd.jupyter.widget-view+json": {
       "model_id": "897a97d1ef844bd4a9c2be6732a69fbe",
       "version_major": 2,
       "version_minor": 0
      },
      "text/plain": [
       "  0%|          | 0/807 [00:00<?, ?it/s]"
      ]
     },
     "metadata": {},
     "output_type": "display_data"
    },
    {
     "name": "stdout",
     "output_type": "stream",
     "text": [
      "Epoch: 10, Train RMSE: 8.487543106079102, Test RMSE: 8.650774002075195\n"
     ]
    },
    {
     "data": {
      "image/png": "[encoded data removed]",
      "text/plain": [
       "<Figure size 1000x500 with 1 Axes>"
      ]
     },
     "metadata": {},
     "output_type": "display_data"
    },
    {
     "data": {
      "image/png": "[encoded data removed]",
      "text/plain": [
       "<Figure size 1000x500 with 1 Axes>"
      ]
     },
     "metadata": {},
     "output_type": "display_data"
    },
    {
     "data": {
      "application/vnd.jupyter.widget-view+json": {
       "model_id": "5a5efa685f0f4e38bb2cdb762166cbf4",
       "version_major": 2,
       "version_minor": 0
      },
      "text/plain": [
       "  0%|          | 0/807 [00:00<?, ?it/s]"
      ]
     },
     "metadata": {},
     "output_type": "display_data"
    },
    {
     "name": "stdout",
     "output_type": "stream",
     "text": [
      "RMSE: 8.654122352600098\n"
     ]
    }
   ],
   "source": [
    "# ೭੧(❛〜❛✿)੭೨ Go forward!\n",
    "\n",
    "train(model, optimizer, criterion, train_loader, test_loader)\n",
    "pred = test(model, criterion, test_loader)\n"
   ]
  },
  {
   "attachments": {},
   "cell_type": "markdown",
   "metadata": {
    "id": "bine9EES6TIn"
   },
   "source": [
    "## Задание 4 \n",
    "(0 баллов, но при невыполнении максимум за все задание &mdash; 0 баллов)\n",
    "\n",
    "Напишите небольшой отчет о том, как вы добились полученного качества: какие средства использовали и какие эксперименты проводили. Подробно расскажите об архитектурах и значениях гиперпараметров, а также какие метрики на тесте они показывали. Чтобы отчет был зачтен, необходимо привести хотя бы 3 эксперимента."
   ]
  },
  {
   "cell_type": "code",
   "execution_count": null,
   "metadata": {},
   "outputs": [],
   "source": []
  },
  {
   "cell_type": "markdown",
   "metadata": {},
   "source": [
    "**Все эксперименты проводились с обучением на 10 эпохах, размер батча 64.**\n",
    "\n",
    "1. Standart scaler, loss: mse, SGD,  lr = 0.05, два слоя линейных linear(90, 30) relu linear(30, 1)             \n",
    "    train rmse 200, test rmse много\n",
    "\n",
    "2. Standart scaler, loss: mse, **Adam**, lr = 0.05, два слоя линейных linear(90, 30) relu linear(30, 1)         \n",
    "    train rmse 15.4, test rmse 15.23\n",
    "\n",
    "Оптимизатор Adam значительно улучшил результаты, поэтому в дальнейшем будем использовать его.\n",
    "\n",
    "3. Standart scaler, loss: **mae**, Adam, lr = 0.05, два слоя линейных linear(90, 30) relu linear(30, 1)         \n",
    "    train rmse 15.49, test rmse 14.32\n",
    "\n",
    "MAE незначительно улучшило показатель, но из-за неудобства расчета RMSE я не буду использовать MAE в следующих экспериментах\n",
    "\n",
    "4. **MinMax scaler, loss: mse**, Adam, lr = 0.05, два слоя линейных linear(90, 30) relu linear(30, 1)          \n",
    "    train rmse 15.49, test rmse 11.8\n",
    "\n",
    "5. MinMax scaler, loss: mse, Adam, **lr = 0.1**, два слоя линейных linear(90, 30) relu linear(30, 1)            \n",
    "    train rmse 12.79, test rmse 14.5\n",
    "\n",
    "6. MinMax scaler, loss: mse, Adam, lr = 0.05, **3 слоя линейных linear(90, 64) relu linear(64,32) relu linear(32,1)**     \n",
    "    train rmse 14.07, test rmse 14.06\n",
    "\n",
    "7. MinMax scaler, loss: mse, Adam, lr = 0.05, **3 слоя линейных linear(90, 45) relu dropout(30%) linear(45,45) relu linear(45, 1)**      \n",
    "    train rmse 11.35, test rmse 10.84\n",
    "\n",
    "8. MinMax scaler, loss: mse, Adam, lr = 0.05, **5 слоя линейных linear(90, 128) relu dropout(30%) linear(128,256) relu dropout(30%) linear(256,64) relu linear(64,32) relu linear(32,1)**      \n",
    "    train rmse 11.28, test rmse 10.75\n",
    "\n",
    "9. **Standart scaler**, loss: mse, Adam, **lr = 0.001**, **4 слоя линейных linear(90, 128) relu dropout(30%) linear(128,64) relu dropout(30%) linear(64,32) relu linear(32,1)**      \n",
    "    train rmse 8.85, test rmse 8.79\n",
    "\n",
    "Сначала смена скейлера улучшила результаты, но в других экспериментах с другой архитектурой и с standart scaler показатель метрики был ниже\n",
    "\n",
    "10. Standart scaler loss: mse, Adam, lr = 0.001, **4 слоя линейных linear(90, 180) relu dropout(30%) linear(180,120) relu dropout(30%) linear(120,60) relu linear(60,1)**      \n",
    "    train rmse 9.2, test rmse 8.9\n",
    "\n",
    "11. Standart scaler loss: mse, Adam, lr = 0.001, **4 слоя линейных linear(90, 180) relu dropout(30%) linear(180,60) relu dropout(30%) linear(60,30) relu linear(30,1)**      \n",
    "    train rmse 8.85, test rmse 8.85\n",
    "\n",
    "12. Standart scaler loss: mse, Adam, lr = 0.001, **4 слоя линейных linear(90, 180)  relu dropout(30%) linear(180,120) relu dropout(30%) linear(120,60) relu linear(60,1)**      \n",
    "    train rmse 8.84, test rmse 8.77\n",
    "\n",
    "13. Standart scaler, loss: mse, Adam, lr = 0.001, **linear(90,140) layerNorm(140) relu dropout(30%) linear(140,70) relu linear(70,35) layerNorm(35) relu linear(35,1)**\n",
    "    train rmse 8.49, test rmse 8.65\n",
    "\n",
    "  __________________________________________________________________________________________________________________________________________________________________________________________________________________________________\n",
    "  \n",
    "  \n",
    "\n",
    "После нахождения оптимальных параметров (оптимизатор Adam, функция потерь MSE, lr = 0.001), нужно было подобрать архитектуру и количество нейронов в слоях, которые бы показывали хороший результат.\n",
    "\n",
    "Очень улучшило результаты смена оптимизатора с SGD на Adam и незначительно помогла смена функции потерь (с MSE на MAE), но потом я отказался от MAE из-за плохих результатов. Уменьшение гиперпараметра lr понизило ошибку, а увеличение только ухудшило результаты. Dropout и LayerNorm помогли довести модель до состояния, когда она предсказывала хорошие значения и RMSE был низок.\n",
    "\n",
    "Финальные результаты получились с моделью номер 13, с показателем RMSE на тестовой выборке 8.65\n"
   ]
  },
  {
   "cell_type": "markdown",
   "metadata": {},
   "source": [
    "https://www.kaggle.com/code/raghav1810/release-year-prediction-on-msd/notebook\n",
    "\n",
    "https://neurohive.io/ru/tutorial/glubokoe-obuchenie-s-pytorch/\n",
    "\n",
    "https://qudata.com/ml/ru/NN_Base_Torch_NN_Ref.html#BatchNorm1d"
   ]
  }
 ],
 "metadata": {
  "colab": {
   "provenance": []
  },
  "kernelspec": {
   "display_name": "Python 3",
   "language": "python",
   "name": "python3"
  },
  "language_info": {
   "codemirror_mode": {
    "name": "ipython",
    "version": 3
   },
   "file_extension": ".py",
   "mimetype": "text/x-python",
   "name": "python",
   "nbconvert_exporter": "python",
   "pygments_lexer": "ipython3",
   "version": "3.10.10"
  }
 },
 "nbformat": 4,
 "nbformat_minor": 0
}
